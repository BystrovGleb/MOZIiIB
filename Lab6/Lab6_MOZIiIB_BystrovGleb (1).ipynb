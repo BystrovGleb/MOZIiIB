{
 "cells": [
  {
   "cell_type": "code",
   "execution_count": 21,
   "id": "e6e49a59",
   "metadata": {},
   "outputs": [
    {
     "name": "stdout",
     "output_type": "stream",
     "text": [
      "Число 1359331 разлагается как 1151 * 1181\n"
     ]
    }
   ],
   "source": [
    "from math import gcd\n",
    "\n",
    "def calc(x, mod):\n",
    "    return (x**2 + 7) % mod\n",
    "\n",
    "def pollard(n):\n",
    "    x = 2\n",
    "    y = 2\n",
    "    d = 1\n",
    "    \n",
    "    while d == 1:\n",
    "        x = calc(x, n)\n",
    "        y = calc(calc(y, n), n)\n",
    "        d = gcd(abs(x - y), n)\n",
    "        \n",
    "    if d == n:\n",
    "        print(\"Делитель не найден\")\n",
    "        return None\n",
    "    else:\n",
    "        return d\n",
    "\n",
    "number = 1359331\n",
    "divisor = pollard(number)\n",
    "if divisor:\n",
    "    print(f\"Число {number} разлагается как {divisor} * {number // divisor}\")"
   ]
  },
  {
   "cell_type": "code",
   "execution_count": 27,
   "id": "0729ab55",
   "metadata": {},
   "outputs": [
    {
     "name": "stdout",
     "output_type": "stream",
     "text": [
      "Число 1359331 разлагается как 1151 * 1181\n"
     ]
    }
   ],
   "source": [
    "from math import isqrt\n",
    "\n",
    "def ferma(n):\n",
    "    if n % 2 == 0:\n",
    "        print(\"Число должно быть нечетным\")\n",
    "        return None\n",
    "    s = isqrt(n) + 1\n",
    "    squared = s**2 - n\n",
    "    \n",
    "    while not perfect_square(squared):\n",
    "        s += 1\n",
    "        squared = s**2 - n\n",
    "        \n",
    "    t = isqrt(squared)\n",
    "    p = s - t\n",
    "    q = s + t\n",
    "    return p, q\n",
    "\n",
    "def perfect_square(x):\n",
    "    if x < 0:\n",
    "        return False\n",
    "    sqrt_x = isqrt(x)\n",
    "    return sqrt_x**2 == x\n",
    "\n",
    "number = 1359331\n",
    "factors = ferma(number)\n",
    "\n",
    "if factors:\n",
    "    print(f\"Число {number} разлагается как {factors[0]} * {factors[1]}\")"
   ]
  },
  {
   "cell_type": "code",
   "execution_count": null,
   "id": "e50508ae",
   "metadata": {},
   "outputs": [],
   "source": []
  }
 ],
 "metadata": {
  "kernelspec": {
   "display_name": "Python 3 (ipykernel)",
   "language": "python",
   "name": "python3"
  },
  "language_info": {
   "codemirror_mode": {
    "name": "ipython",
    "version": 3
   },
   "file_extension": ".py",
   "mimetype": "text/x-python",
   "name": "python",
   "nbconvert_exporter": "python",
   "pygments_lexer": "ipython3",
   "version": "3.11.5"
  }
 },
 "nbformat": 4,
 "nbformat_minor": 5
}
