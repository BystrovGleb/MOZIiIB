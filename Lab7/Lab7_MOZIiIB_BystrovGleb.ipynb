{
 "cells": [
  {
   "cell_type": "code",
   "execution_count": 9,
   "id": "3b0eebf1",
   "metadata": {},
   "outputs": [
    {
     "name": "stdout",
     "output_type": "stream",
     "text": [
      "Для входных данных (10, 64, 107) результат: 20\n",
      "Проверка: успешно\n"
     ]
    }
   ],
   "source": [
    "def extended_euclid(a, b):\n",
    "    if b == 0:\n",
    "        return a, 1, 0\n",
    "    gcd, x1, y1 = extended_euclid(b, a % b) \n",
    "    x = y1\n",
    "    y = x1 - (a // b) * y1\n",
    "    return gcd, x, y\n",
    "\n",
    "def modular_inverse(a, n):\n",
    "    return extended_euclid(a, n)[1] \n",
    "\n",
    "def process_xab(x, a, b, params):\n",
    "    G, H, P, Q = params\n",
    "    mod_case = x % 3\n",
    "    if mod_case == 0:\n",
    "        x = x * G % P\n",
    "        a = (a + 1) % Q\n",
    "    elif mod_case == 1:\n",
    "        x = x * H % P\n",
    "        b = (b + 1) % Q\n",
    "    else:\n",
    "        x = x * x % P\n",
    "        a = (a * 2) % Q\n",
    "        b = (b * 2) % Q\n",
    "    return x, a, b\n",
    "\n",
    "def pollard_algorithm(G, H, P):\n",
    "    Q = (P - 1) // 2\n",
    "    x = G * H\n",
    "    a, b = 1, 1\n",
    "    X, A, B = x, a, b\n",
    "    for _ in range(1, P): \n",
    "        x, a, b = process_xab(x, a, b, (G, H, P, Q))\n",
    "        X, A, B = process_xab(X, A, B, (G, H, P, Q))\n",
    "        X, A, B = process_xab(X, A, B, (G, H, P, Q))\n",
    "        if x == X: \n",
    "            break\n",
    "            \n",
    "    nominator = a - A\n",
    "    denominator = B - b\n",
    "    x_result = (modular_inverse(denominator, Q) * nominator) % Q\n",
    "    \n",
    "    return x_result if verify_result(G, H, P, x_result) else x_result + Q\n",
    "\n",
    "def verify_result(g, h, p, x):\n",
    "    return pow(g, x, p) == h\n",
    "\n",
    "test_cases = [(10, 64, 107)]\n",
    "for G, H, P in test_cases:\n",
    "    result = pollard_algorithm(G, H, P)\n",
    "    print(f\"Для входных данных ({G}, {H}, {P}) результат: {result}\")\n",
    "    print(f\"Проверка: {'успешно' if verify_result(G, H, P, result) else 'неуспешно'}\")"
   ]
  },
  {
   "cell_type": "code",
   "execution_count": null,
   "id": "a3cc42ea",
   "metadata": {},
   "outputs": [],
   "source": []
  }
 ],
 "metadata": {
  "kernelspec": {
   "display_name": "Python 3 (ipykernel)",
   "language": "python",
   "name": "python3"
  },
  "language_info": {
   "codemirror_mode": {
    "name": "ipython",
    "version": 3
   },
   "file_extension": ".py",
   "mimetype": "text/x-python",
   "name": "python",
   "nbconvert_exporter": "python",
   "pygments_lexer": "ipython3",
   "version": "3.11.5"
  }
 },
 "nbformat": 4,
 "nbformat_minor": 5
}
